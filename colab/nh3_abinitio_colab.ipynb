{
 "cells": [
  {
   "cell_type": "markdown",
   "id": "0bfc81a9",
   "metadata": {},
   "source": [
    "# NH3 ab-initio in Colab (condacolab + pip)\n",
    "\n",
    "This notebook demonstrates two ways to run the NH3 Hamiltonian generator in Google Colab:\n",
    "\n",
    "1. Robust: install PySCF and native deps from conda-forge via `condacolab` (recommended for ab-initio).\n",
    "2. Quick: a pip-only attempt (fast but may fail if no wheels are available).\n",
    "\n",
    "Follow the cells in order. The condacolab cell will ask you to restart the runtime; after restarting re-run the following cells."
   ]
  },
  {
   "cell_type": "code",
   "execution_count": null,
   "id": "3e556abf",
   "metadata": {},
   "outputs": [],
   "source": [
    "# Cell 1: Install condacolab (run once)\n",
    "!pip install -q condacolab\n",
    "import condacolab\n",
    "condacolab.install()\n",
    "# After this cell completes you must restart the Colab runtime. Then re-run the next cells."
   ]
  },
  {
   "cell_type": "markdown",
   "id": "540acf8f",
   "metadata": {},
   "source": [
    "After restarting the runtime, run the next cell (Cell 3) to install PySCF via conda-forge and Qiskit via pip."
   ]
  },
  {
   "cell_type": "code",
   "execution_count": null,
   "id": "a36e360f",
   "metadata": {},
   "outputs": [],
   "source": [
    "# Cell 3: Robust install (run after runtime restart).\n",
    "# This uses mamba/conda-forge to install PySCF and native deps, then pip to install Qiskit packages.\n",
    "!mamba install -y -c conda-forge pyscf numpy scipy h5py\n",
    "!pip install -q qiskit==1.2.4 qiskit-nature==0.7.2\n",
    "print(\"Installed conda-forge PySCF + pip Qiskit; you can now run the generator.\")"
   ]
  },
  {
   "cell_type": "markdown",
   "id": "aba9b4d1",
   "metadata": {},
   "source": [
    "Optional quick attempt (pip-only). This may succeed if wheels exist for the runtime, otherwise it will fail while building native extensions. Use only if you want a fast try."
   ]
  },
  {
   "cell_type": "code",
   "execution_count": null,
   "id": "e9fc895d",
   "metadata": {},
   "outputs": [],
   "source": [
    "# Cell 5: Quick pip-only attempt (may fail for pyscf)\n",
    "!pip install -q qiskit==1.2.4 qiskit-nature==0.7.2 pyscf==2.10.0\n",
    "print(\"pip install attempted. Check output for errors.\")"
   ]
  },
  {
   "cell_type": "code",
   "execution_count": null,
   "id": "6e2cc86c",
   "metadata": {},
   "outputs": [],
   "source": [
    "# Cell 6: Clone repo and run the NH3 generator\n",
    "!git clone https://github.com/Kukyos/GroundStateFinder.git repo\n",
    "!python repo/h2_qubit_hamiltonian.py -m NH3"
   ]
  },
  {
   "cell_type": "markdown",
   "id": "dee6bc70",
   "metadata": {},
   "source": [
    "## Troubleshooting and notes\n",
    "- If `mamba install pyscf` fails, try switching to a Python 3.9 runtime or run the ab-initio steps on a full conda VM/WSL where conda-forge is reliable.\n",
    "- If `pip install pyscf` fails, it likely attempted a source build (missing Fortran/BLAS). Use the condacolab flow instead.\n",
    "- For quick algorithm development you can run the repository's precomputed fallback (fast) and later regenerate the Hamiltonian on a stronger machine. See the repo `README.md` for details.\n",
    "\n",
    "Link: https://github.com/Kukyos/GroundStateFinder (README contains more details)"
   ]
  }
 ],
 "metadata": {
  "language_info": {
   "name": "python"
  }
 },
 "nbformat": 4,
 "nbformat_minor": 5
}
